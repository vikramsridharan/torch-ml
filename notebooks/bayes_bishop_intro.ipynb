{
 "cells": [
  {
   "cell_type": "code",
   "execution_count": 1,
   "id": "7c1371b4-4591-4c20-a357-e5667510bb60",
   "metadata": {},
   "outputs": [
    {
     "data": {
      "text/latex": [
       "$\\displaystyle 0.333333333333333 {x}_{1} + 0.333333333333333 {x}_{2} + 0.333333333333333 {x}_{3}$"
      ],
      "text/plain": [
       "0.333333333333333*x[1] + 0.333333333333333*x[2] + 0.333333333333333*x[3]"
      ]
     },
     "metadata": {},
     "output_type": "display_data"
    },
    {
     "data": {
      "text/latex": [
       "$\\displaystyle \\frac{\\sqrt{2} e^{- \\frac{\\left(- \\mu + {x}_{i}\\right)^{2}}{2 \\sigma^{2}}}}{2 \\sqrt{\\pi} \\sqrt{\\sigma^{2}}}$"
      ],
      "text/plain": [
       "sqrt(2)*exp(-(-mu + x[i])**2/(2*sigma**2))/(2*sqrt(pi)*sqrt(sigma**2))"
      ]
     },
     "execution_count": 1,
     "metadata": {},
     "output_type": "execute_result"
    }
   ],
   "source": [
    "import sympy as sym\n",
    "\n",
    "x = sym.Symbol('x')\n",
    "y = sym.Symbol('y')\n",
    "g = x**3*y**2 + 4*x*y\n",
    "\n",
    "g_dash_x = sym.diff(g, x)\n",
    "[sol1,sol2] = sym.solve(g_dash_x, x)\n",
    "sol1\n",
    "#------------------------\n",
    "i = sym.Symbol('i')\n",
    "n = sym.Symbol('n')\n",
    "pi = sym.pi\n",
    "sigma = sym.Symbol('sigma')\n",
    "mu = sym.Symbol('mu')\n",
    "beta = sym.Symbol('beta')\n",
    "beta = 1/sigma**2\n",
    "#liklihood = \n",
    "sym.Product(x**2,(i,1,n))\n",
    "sym.Product(sym.Indexed(x,i)**2 + 1,(i,1,4)).doit()\n",
    "gauss_dist = (1/sym.sqrt(2*pi*sigma**2))*sym.exp((-1/(2*sigma**2))*(sym.Indexed(x,i)-mu)**2)\n",
    "\"\"\"\n",
    "gauss_dist\n",
    "liklihood = sym.Product(gauss_dist, (i,1,3)).doit()\n",
    "liklihood_log = sym.log(liklihood).doit()\n",
    "liklihood_log_dash_mu = sym.diff(liklihood_log, mu)\n",
    "[sol_mu] = sym.solve(liklihood_log_dash_mu,mu)\n",
    "sol_mu\n",
    "sigma_square = sigma**2\n",
    "liklihood_log_dash_sigma = sym.diff(liklihood_log, sigma)\n",
    "[sol_sigma1, sol_sigma2] = sym.solve(liklihood_log_dash_sigma,sigma)\n",
    "#liklihood_log_dash_sigma\n",
    "display((sol_sigma1**2).subs(mu, sol_mu))\n",
    "display(sol_mu)\n",
    "display(beta.simplify())\n",
    "#display((1/3)*sym.Sum((sym.Indexed(x,i) - sol_mu)**2, (i,1,3)).doit())\n",
    "\"\"\"\n",
    "mu_ml = (1/3)*sym.Sum(sym.Indexed(x,i), (i,1,3)).doit()\n",
    "display(mu_ml)\n",
    "gauss_dist.doit()\n",
    "\n",
    "\n"
   ]
  },
  {
   "cell_type": "code",
   "execution_count": null,
   "id": "c398c185-0820-4277-bd93-ec16675ef6ff",
   "metadata": {},
   "outputs": [],
   "source": []
  }
 ],
 "metadata": {
  "kernelspec": {
   "display_name": "Python 3 (ipykernel)",
   "language": "python",
   "name": "python3"
  },
  "language_info": {
   "codemirror_mode": {
    "name": "ipython",
    "version": 3
   },
   "file_extension": ".py",
   "mimetype": "text/x-python",
   "name": "python",
   "nbconvert_exporter": "python",
   "pygments_lexer": "ipython3",
   "version": "3.9.12"
  }
 },
 "nbformat": 4,
 "nbformat_minor": 5
}
